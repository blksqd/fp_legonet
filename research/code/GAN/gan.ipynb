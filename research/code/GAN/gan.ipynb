{
 "cells": [
  {
   "cell_type": "markdown",
   "metadata": {},
   "source": [
    "### Exmaple from KEras library"
   ]
  },
  {
   "cell_type": "code",
   "execution_count": 27,
   "metadata": {},
   "outputs": [],
   "source": [
    "!pip install -q git+https://github.com/tensorflow/docs"
   ]
  },
  {
   "cell_type": "code",
   "execution_count": 28,
   "metadata": {},
   "outputs": [],
   "source": [
    "import keras\n",
    "from keras import layers\n",
    "from keras import ops\n",
    "from tensorflow_docs.vis import embed\n",
    "import tensorflow as tf\n",
    "import numpy as np\n",
    "import imageio"
   ]
  },
  {
   "cell_type": "code",
   "execution_count": 29,
   "metadata": {},
   "outputs": [],
   "source": [
    "batch_size = 64\n",
    "num_channels = 1\n",
    "num_classes = 10\n",
    "image_size = 28\n",
    "latent_dim = 128"
   ]
  },
  {
   "cell_type": "code",
   "execution_count": 30,
   "metadata": {},
   "outputs": [
    {
     "name": "stdout",
     "output_type": "stream",
     "text": [
      "Shape of training images: (70000, 28, 28, 1)\n",
      "Shape of training labels: (70000, 10)\n"
     ]
    }
   ],
   "source": [
    "\n",
    "(x_train, y_train), (x_test, y_test) = keras.datasets.mnist.load_data()\n",
    "all_digits = np.concatenate([x_train, x_test])\n",
    "all_labels = np.concatenate([y_train, y_test])\n",
    "\n",
    "# Scale the pixel values to [0, 1] range, add a channel dimension to\n",
    "# the images, and one-hot encode the labels.\n",
    "all_digits = all_digits.astype(\"float32\") / 255.0\n",
    "all_digits = np.reshape(all_digits, (-1, 28, 28, 1))\n",
    "all_labels = keras.utils.to_categorical(all_labels, 10)\n",
    "\n",
    "# Create tf.data.Dataset.\n",
    "dataset = tf.data.Dataset.from_tensor_slices((all_digits, all_labels))\n",
    "dataset = dataset.shuffle(buffer_size=1024).batch(batch_size)\n",
    "\n",
    "print(f\"Shape of training images: {all_digits.shape}\")\n",
    "print(f\"Shape of training labels: {all_labels.shape}\")"
   ]
  },
  {
   "cell_type": "code",
   "execution_count": 31,
   "metadata": {},
   "outputs": [
    {
     "name": "stdout",
     "output_type": "stream",
     "text": [
      "138 11\n"
     ]
    }
   ],
   "source": [
    "generator_in_channels = latent_dim + num_classes\n",
    "discriminator_in_channels = num_channels + num_classes\n",
    "print(generator_in_channels, discriminator_in_channels)"
   ]
  },
  {
   "cell_type": "code",
   "execution_count": 32,
   "metadata": {},
   "outputs": [],
   "source": [
    "# Create the discriminator.\n",
    "discriminator = keras.Sequential(\n",
    "    [\n",
    "        keras.layers.InputLayer((28, 28, discriminator_in_channels)),\n",
    "        layers.Conv2D(64, (3, 3), strides=(2, 2), padding=\"same\"),\n",
    "        layers.LeakyReLU(negative_slope=0.2),\n",
    "        layers.Conv2D(128, (3, 3), strides=(2, 2), padding=\"same\"),\n",
    "        layers.LeakyReLU(negative_slope=0.2),\n",
    "        layers.GlobalMaxPooling2D(),\n",
    "        layers.Dense(1),\n",
    "    ],\n",
    "    name=\"discriminator\",\n",
    ")\n",
    "\n",
    "# Create the generator.\n",
    "generator = keras.Sequential(\n",
    "    [\n",
    "        keras.layers.InputLayer((generator_in_channels,)),\n",
    "        # We want to generate 128 + num_classes coefficients to reshape into a\n",
    "        # 7x7x(128 + num_classes) map.\n",
    "        layers.Dense(7 * 7 * generator_in_channels),\n",
    "        layers.LeakyReLU(negative_slope=0.2),\n",
    "        layers.Reshape((7, 7, generator_in_channels)),\n",
    "        layers.Conv2DTranspose(128, (4, 4), strides=(2, 2), padding=\"same\"),\n",
    "        layers.LeakyReLU(negative_slope=0.2),\n",
    "        layers.Conv2DTranspose(128, (4, 4), strides=(2, 2), padding=\"same\"),\n",
    "        layers.LeakyReLU(negative_slope=0.2),\n",
    "        layers.Conv2D(1, (7, 7), padding=\"same\", activation=\"sigmoid\"),\n",
    "    ],\n",
    "    name=\"generator\",\n",
    ")"
   ]
  },
  {
   "cell_type": "code",
   "execution_count": 33,
   "metadata": {},
   "outputs": [],
   "source": [
    "class ConditionalGAN(keras.Model):\n",
    "    def __init__(self, discriminator, generator, latent_dim):\n",
    "        super().__init__()\n",
    "        self.discriminator = discriminator\n",
    "        self.generator = generator\n",
    "        self.latent_dim = latent_dim\n",
    "        self.seed_generator = keras.random.SeedGenerator(1337)\n",
    "        self.gen_loss_tracker = keras.metrics.Mean(name=\"generator_loss\")\n",
    "        self.disc_loss_tracker = keras.metrics.Mean(name=\"discriminator_loss\")\n",
    "\n",
    "    @property\n",
    "    def metrics(self):\n",
    "        return [self.gen_loss_tracker, self.disc_loss_tracker]\n",
    "\n",
    "    def compile(self, d_optimizer, g_optimizer, loss_fn):\n",
    "        super().compile()\n",
    "        self.d_optimizer = d_optimizer\n",
    "        self.g_optimizer = g_optimizer\n",
    "        self.loss_fn = loss_fn\n",
    "\n",
    "    def train_step(self, data):\n",
    "        # Unpack the data.\n",
    "        real_images, one_hot_labels = data\n",
    "\n",
    "        # Add dummy dimensions to the labels so that they can be concatenated with\n",
    "        # the images. This is for the discriminator.\n",
    "        image_one_hot_labels = one_hot_labels[:, :, None, None]\n",
    "        image_one_hot_labels = ops.repeat(\n",
    "            image_one_hot_labels, repeats=[image_size * image_size]\n",
    "        )\n",
    "        image_one_hot_labels = ops.reshape(\n",
    "            image_one_hot_labels, (-1, image_size, image_size, num_classes)\n",
    "        )\n",
    "\n",
    "        # Sample random points in the latent space and concatenate the labels.\n",
    "        # This is for the generator.\n",
    "        batch_size = ops.shape(real_images)[0]\n",
    "        random_latent_vectors = keras.random.normal(\n",
    "            shape=(batch_size, self.latent_dim), seed=self.seed_generator\n",
    "        )\n",
    "        random_vector_labels = ops.concatenate(\n",
    "            [random_latent_vectors, one_hot_labels], axis=1\n",
    "        )\n",
    "\n",
    "        # Decode the noise (guided by labels) to fake images.\n",
    "        generated_images = self.generator(random_vector_labels)\n",
    "\n",
    "        # Combine them with real images. Note that we are concatenating the labels\n",
    "        # with these images here.\n",
    "        fake_image_and_labels = ops.concatenate(\n",
    "            [generated_images, image_one_hot_labels], -1\n",
    "        )\n",
    "        real_image_and_labels = ops.concatenate([real_images, image_one_hot_labels], -1)\n",
    "        combined_images = ops.concatenate(\n",
    "            [fake_image_and_labels, real_image_and_labels], axis=0\n",
    "        )\n",
    "\n",
    "        # Assemble labels discriminating real from fake images.\n",
    "        labels = ops.concatenate(\n",
    "            [ops.ones((batch_size, 1)), ops.zeros((batch_size, 1))], axis=0\n",
    "        )\n",
    "\n",
    "        # Train the discriminator.\n",
    "        with tf.GradientTape() as tape:\n",
    "            predictions = self.discriminator(combined_images)\n",
    "            d_loss = self.loss_fn(labels, predictions)\n",
    "        grads = tape.gradient(d_loss, self.discriminator.trainable_weights)\n",
    "        self.d_optimizer.apply_gradients(\n",
    "            zip(grads, self.discriminator.trainable_weights)\n",
    "        )\n",
    "\n",
    "        # Sample random points in the latent space.\n",
    "        random_latent_vectors = keras.random.normal(\n",
    "            shape=(batch_size, self.latent_dim), seed=self.seed_generator\n",
    "        )\n",
    "        random_vector_labels = ops.concatenate(\n",
    "            [random_latent_vectors, one_hot_labels], axis=1\n",
    "        )\n",
    "\n",
    "        # Assemble labels that say \"all real images\".\n",
    "        misleading_labels = ops.zeros((batch_size, 1))\n",
    "\n",
    "        # Train the generator (note that we should *not* update the weights\n",
    "        # of the discriminator)!\n",
    "        with tf.GradientTape() as tape:\n",
    "            fake_images = self.generator(random_vector_labels)\n",
    "            fake_image_and_labels = ops.concatenate(\n",
    "                [fake_images, image_one_hot_labels], -1\n",
    "            )\n",
    "            predictions = self.discriminator(fake_image_and_labels)\n",
    "            g_loss = self.loss_fn(misleading_labels, predictions)\n",
    "        grads = tape.gradient(g_loss, self.generator.trainable_weights)\n",
    "        self.g_optimizer.apply_gradients(zip(grads, self.generator.trainable_weights))\n",
    "\n",
    "        # Monitor loss.\n",
    "        self.gen_loss_tracker.update_state(g_loss)\n",
    "        self.disc_loss_tracker.update_state(d_loss)\n",
    "        return {\n",
    "            \"g_loss\": self.gen_loss_tracker.result(),\n",
    "            \"d_loss\": self.disc_loss_tracker.result(),\n",
    "        }"
   ]
  },
  {
   "cell_type": "code",
   "execution_count": 34,
   "metadata": {},
   "outputs": [
    {
     "name": "stdout",
     "output_type": "stream",
     "text": [
      "Epoch 1/20\n",
      "\u001b[1m1094/1094\u001b[0m \u001b[32m━━━━━━━━━━━━━━━━━━━━\u001b[0m\u001b[37m\u001b[0m \u001b[1m272s\u001b[0m 248ms/step - d_loss: 0.4000 - g_loss: 1.6912\n",
      "Epoch 2/20\n",
      "\u001b[1m1094/1094\u001b[0m \u001b[32m━━━━━━━━━━━━━━━━━━━━\u001b[0m\u001b[37m\u001b[0m \u001b[1m271s\u001b[0m 247ms/step - d_loss: 0.4902 - g_loss: 1.2692\n",
      "Epoch 3/20\n",
      "\u001b[1m1094/1094\u001b[0m \u001b[32m━━━━━━━━━━━━━━━━━━━━\u001b[0m\u001b[37m\u001b[0m \u001b[1m281s\u001b[0m 256ms/step - d_loss: 0.3970 - g_loss: 1.5436\n",
      "Epoch 4/20\n",
      "\u001b[1m1094/1094\u001b[0m \u001b[32m━━━━━━━━━━━━━━━━━━━━\u001b[0m\u001b[37m\u001b[0m \u001b[1m284s\u001b[0m 260ms/step - d_loss: 0.3410 - g_loss: 1.7716\n",
      "Epoch 5/20\n",
      "\u001b[1m1094/1094\u001b[0m \u001b[32m━━━━━━━━━━━━━━━━━━━━\u001b[0m\u001b[37m\u001b[0m \u001b[1m273s\u001b[0m 249ms/step - d_loss: 0.6174 - g_loss: 0.9960\n",
      "Epoch 6/20\n",
      "\u001b[1m1094/1094\u001b[0m \u001b[32m━━━━━━━━━━━━━━━━━━━━\u001b[0m\u001b[37m\u001b[0m \u001b[1m269s\u001b[0m 246ms/step - d_loss: 0.6115 - g_loss: 0.9563\n",
      "Epoch 7/20\n",
      "\u001b[1m1094/1094\u001b[0m \u001b[32m━━━━━━━━━━━━━━━━━━━━\u001b[0m\u001b[37m\u001b[0m \u001b[1m271s\u001b[0m 248ms/step - d_loss: 0.6273 - g_loss: 0.9076\n",
      "Epoch 8/20\n",
      "\u001b[1m1094/1094\u001b[0m \u001b[32m━━━━━━━━━━━━━━━━━━━━\u001b[0m\u001b[37m\u001b[0m \u001b[1m268s\u001b[0m 245ms/step - d_loss: 0.6320 - g_loss: 0.8991\n",
      "Epoch 9/20\n",
      "\u001b[1m1094/1094\u001b[0m \u001b[32m━━━━━━━━━━━━━━━━━━━━\u001b[0m\u001b[37m\u001b[0m \u001b[1m267s\u001b[0m 244ms/step - d_loss: 0.6467 - g_loss: 0.8513\n",
      "Epoch 10/20\n",
      "\u001b[1m1094/1094\u001b[0m \u001b[32m━━━━━━━━━━━━━━━━━━━━\u001b[0m\u001b[37m\u001b[0m \u001b[1m264s\u001b[0m 241ms/step - d_loss: 0.6595 - g_loss: 0.8457\n",
      "Epoch 11/20\n",
      "\u001b[1m1094/1094\u001b[0m \u001b[32m━━━━━━━━━━━━━━━━━━━━\u001b[0m\u001b[37m\u001b[0m \u001b[1m271s\u001b[0m 248ms/step - d_loss: 0.6598 - g_loss: 0.8096\n",
      "Epoch 12/20\n",
      "\u001b[1m1094/1094\u001b[0m \u001b[32m━━━━━━━━━━━━━━━━━━━━\u001b[0m\u001b[37m\u001b[0m \u001b[1m276s\u001b[0m 252ms/step - d_loss: 0.6555 - g_loss: 0.8146\n",
      "Epoch 13/20\n",
      "\u001b[1m1094/1094\u001b[0m \u001b[32m━━━━━━━━━━━━━━━━━━━━\u001b[0m\u001b[37m\u001b[0m \u001b[1m276s\u001b[0m 252ms/step - d_loss: 0.6631 - g_loss: 0.7995\n",
      "Epoch 14/20\n",
      "\u001b[1m1094/1094\u001b[0m \u001b[32m━━━━━━━━━━━━━━━━━━━━\u001b[0m\u001b[37m\u001b[0m \u001b[1m275s\u001b[0m 251ms/step - d_loss: 0.6634 - g_loss: 0.8109\n",
      "Epoch 15/20\n",
      "\u001b[1m1094/1094\u001b[0m \u001b[32m━━━━━━━━━━━━━━━━━━━━\u001b[0m\u001b[37m\u001b[0m \u001b[1m274s\u001b[0m 251ms/step - d_loss: 0.6711 - g_loss: 0.7943\n",
      "Epoch 16/20\n",
      "\u001b[1m1094/1094\u001b[0m \u001b[32m━━━━━━━━━━━━━━━━━━━━\u001b[0m\u001b[37m\u001b[0m \u001b[1m269s\u001b[0m 246ms/step - d_loss: 0.6637 - g_loss: 0.8013\n",
      "Epoch 17/20\n",
      "\u001b[1m1094/1094\u001b[0m \u001b[32m━━━━━━━━━━━━━━━━━━━━\u001b[0m\u001b[37m\u001b[0m \u001b[1m268s\u001b[0m 245ms/step - d_loss: 0.6641 - g_loss: 0.7986\n",
      "Epoch 18/20\n",
      "\u001b[1m1094/1094\u001b[0m \u001b[32m━━━━━━━━━━━━━━━━━━━━\u001b[0m\u001b[37m\u001b[0m \u001b[1m270s\u001b[0m 247ms/step - d_loss: 0.6589 - g_loss: 0.8013\n",
      "Epoch 19/20\n",
      "\u001b[1m1094/1094\u001b[0m \u001b[32m━━━━━━━━━━━━━━━━━━━━\u001b[0m\u001b[37m\u001b[0m \u001b[1m268s\u001b[0m 245ms/step - d_loss: 0.6616 - g_loss: 0.8039\n",
      "Epoch 20/20\n",
      "\u001b[1m1094/1094\u001b[0m \u001b[32m━━━━━━━━━━━━━━━━━━━━\u001b[0m\u001b[37m\u001b[0m \u001b[1m272s\u001b[0m 249ms/step - d_loss: 0.6566 - g_loss: 0.8196\n"
     ]
    },
    {
     "data": {
      "text/plain": [
       "<keras.src.callbacks.history.History at 0x320cdf020>"
      ]
     },
     "execution_count": 34,
     "metadata": {},
     "output_type": "execute_result"
    }
   ],
   "source": [
    "cond_gan = ConditionalGAN(\n",
    "    discriminator=discriminator, generator=generator, latent_dim=latent_dim\n",
    ")\n",
    "cond_gan.compile(\n",
    "    d_optimizer=keras.optimizers.Adam(learning_rate=0.0003),\n",
    "    g_optimizer=keras.optimizers.Adam(learning_rate=0.0003),\n",
    "    loss_fn=keras.losses.BinaryCrossentropy(from_logits=True),\n",
    ")\n",
    "\n",
    "cond_gan.fit(dataset, epochs=20)"
   ]
  },
  {
   "cell_type": "code",
   "execution_count": 35,
   "metadata": {},
   "outputs": [
    {
     "name": "stdout",
     "output_type": "stream",
     "text": [
      "\u001b[1m1/1\u001b[0m \u001b[32m━━━━━━━━━━━━━━━━━━━━\u001b[0m\u001b[37m\u001b[0m \u001b[1m0s\u001b[0m 57ms/step\n"
     ]
    }
   ],
   "source": [
    "# We first extract the trained generator from the Conditional GAN.\n",
    "trained_gen = cond_gan.generator\n",
    "\n",
    "# Choose the number of intermediate images that would be generated in\n",
    "# between the interpolation + 2 (start and last images).\n",
    "num_interpolation = 9  # @param {type:\"integer\"}\n",
    "\n",
    "# Sample noise for the interpolation.\n",
    "interpolation_noise = keras.random.normal(shape=(1, latent_dim))\n",
    "interpolation_noise = ops.repeat(interpolation_noise, repeats=num_interpolation)\n",
    "interpolation_noise = ops.reshape(interpolation_noise, (num_interpolation, latent_dim))\n",
    "\n",
    "\n",
    "def interpolate_class(first_number, second_number):\n",
    "    # Convert the start and end labels to one-hot encoded vectors.\n",
    "    first_label = keras.utils.to_categorical([first_number], num_classes)\n",
    "    second_label = keras.utils.to_categorical([second_number], num_classes)\n",
    "    first_label = ops.cast(first_label, \"float32\")\n",
    "    second_label = ops.cast(second_label, \"float32\")\n",
    "\n",
    "    # Calculate the interpolation vector between the two labels.\n",
    "    percent_second_label = ops.linspace(0, 1, num_interpolation)[:, None]\n",
    "    percent_second_label = ops.cast(percent_second_label, \"float32\")\n",
    "    interpolation_labels = (\n",
    "        first_label * (1 - percent_second_label) + second_label * percent_second_label\n",
    "    )\n",
    "\n",
    "    # Combine the noise and the labels and run inference with the generator.\n",
    "    noise_and_labels = ops.concatenate([interpolation_noise, interpolation_labels], 1)\n",
    "    fake = trained_gen.predict(noise_and_labels)\n",
    "    return fake\n",
    "\n",
    "\n",
    "start_class = 2  # @param {type:\"slider\", min:0, max:9, step:1}\n",
    "end_class = 6  # @param {type:\"slider\", min:0, max:9, step:1}\n",
    "\n",
    "fake_images = interpolate_class(start_class, end_class)"
   ]
  },
  {
   "cell_type": "code",
   "execution_count": 36,
   "metadata": {},
   "outputs": [
    {
     "data": {
      "text/html": [
       "<img src=\"data:image/gif;base64,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\"/>"
      ],
      "text/plain": [
       "<IPython.core.display.HTML object>"
      ]
     },
     "execution_count": 36,
     "metadata": {},
     "output_type": "execute_result"
    }
   ],
   "source": [
    "fake_images *= 255.0\n",
    "converted_images = fake_images.astype(np.uint8)\n",
    "converted_images = ops.image.resize(converted_images, (96, 96)).numpy().astype(np.uint8)\n",
    "imageio.mimsave(\"animation.gif\", converted_images[:, :, :, 0], fps=1)\n",
    "embed.embed_file(\"animation.gif\")"
   ]
  },
  {
   "cell_type": "code",
   "execution_count": null,
   "metadata": {},
   "outputs": [],
   "source": []
  }
 ],
 "metadata": {
  "kernelspec": {
   "display_name": ".venv",
   "language": "python",
   "name": "python3"
  },
  "language_info": {
   "codemirror_mode": {
    "name": "ipython",
    "version": 3
   },
   "file_extension": ".py",
   "mimetype": "text/x-python",
   "name": "python",
   "nbconvert_exporter": "python",
   "pygments_lexer": "ipython3",
   "version": "3.12.2"
  },
  "orig_nbformat": 4
 },
 "nbformat": 4,
 "nbformat_minor": 2
}
